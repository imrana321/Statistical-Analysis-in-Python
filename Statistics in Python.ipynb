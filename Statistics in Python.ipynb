{
 "cells": [
  {
   "cell_type": "code",
   "execution_count": 1,
   "id": "0bd51e41",
   "metadata": {},
   "outputs": [],
   "source": [
    "# Import the required libraries:\n",
    "\n",
    "from scipy import stats\n",
    "import numpy as np\n",
    "import pandas as pd\n",
    "import matplotlib.pyplot as plt\n",
    "import seaborn as sns"
   ]
  },
  {
   "cell_type": "markdown",
   "id": "7435a2c0",
   "metadata": {},
   "source": [
    "### Create Dummy Data"
   ]
  },
  {
   "cell_type": "code",
   "execution_count": 2,
   "id": "89f9f0a7",
   "metadata": {},
   "outputs": [
    {
     "data": {
      "text/plain": [
       "array([0.46386667, 0.89071844, 0.83008685, 0.7602851 , 0.34702635,\n",
       "       0.59086141, 0.81061414, 0.24343927, 0.43118232, 0.10350974,\n",
       "       0.05558068, 0.56519122, 0.6951092 , 0.8895503 , 0.7547137 ,\n",
       "       0.40544586, 0.30242089, 0.59921729, 0.77276939, 0.02142917,\n",
       "       0.85655148, 0.83265356, 0.97131233, 0.27472736, 0.77409385,\n",
       "       0.91694163, 0.07197663, 0.91839001, 0.88262657, 0.41354051])"
      ]
     },
     "execution_count": 2,
     "metadata": {},
     "output_type": "execute_result"
    }
   ],
   "source": [
    "np.random.random(30)"
   ]
  },
  {
   "cell_type": "code",
   "execution_count": 3,
   "id": "c72106df",
   "metadata": {},
   "outputs": [],
   "source": [
    "# Create a dummy distribution::\n",
    "\n",
    "\n",
    "data = np.random.normal(loc=5.5, scale=1, size=40000)\n"
   ]
  },
  {
   "cell_type": "code",
   "execution_count": 4,
   "id": "aad07d08",
   "metadata": {},
   "outputs": [
    {
     "data": {
      "text/plain": [
       "array([6.20678303, 5.34517902, 6.16231034, ..., 6.13312554, 4.24843991,\n",
       "       5.39757932])"
      ]
     },
     "execution_count": 4,
     "metadata": {},
     "output_type": "execute_result"
    }
   ],
   "source": [
    "data"
   ]
  },
  {
   "cell_type": "code",
   "execution_count": 5,
   "id": "815e7c22",
   "metadata": {},
   "outputs": [
    {
     "data": {
      "text/plain": [
       "(40000,)"
      ]
     },
     "execution_count": 5,
     "metadata": {},
     "output_type": "execute_result"
    }
   ],
   "source": [
    "data.shape"
   ]
  },
  {
   "cell_type": "code",
   "execution_count": 6,
   "id": "542bed72",
   "metadata": {},
   "outputs": [
    {
     "data": {
      "text/plain": [
       "5.50315395786395"
      ]
     },
     "execution_count": 6,
     "metadata": {},
     "output_type": "execute_result"
    }
   ],
   "source": [
    "data.mean(axis=0)"
   ]
  },
  {
   "cell_type": "code",
   "execution_count": 7,
   "id": "a9bfb953",
   "metadata": {},
   "outputs": [],
   "source": [
    "# Create a dataframe:\n",
    "\n",
    "ddf = pd.DataFrame(data = data)"
   ]
  },
  {
   "cell_type": "code",
   "execution_count": 8,
   "id": "c99204a9",
   "metadata": {},
   "outputs": [
    {
     "data": {
      "text/html": [
       "<div>\n",
       "<style scoped>\n",
       "    .dataframe tbody tr th:only-of-type {\n",
       "        vertical-align: middle;\n",
       "    }\n",
       "\n",
       "    .dataframe tbody tr th {\n",
       "        vertical-align: top;\n",
       "    }\n",
       "\n",
       "    .dataframe thead th {\n",
       "        text-align: right;\n",
       "    }\n",
       "</style>\n",
       "<table border=\"1\" class=\"dataframe\">\n",
       "  <thead>\n",
       "    <tr style=\"text-align: right;\">\n",
       "      <th></th>\n",
       "      <th>0</th>\n",
       "    </tr>\n",
       "  </thead>\n",
       "  <tbody>\n",
       "    <tr>\n",
       "      <th>0</th>\n",
       "      <td>6.206783</td>\n",
       "    </tr>\n",
       "    <tr>\n",
       "      <th>1</th>\n",
       "      <td>5.345179</td>\n",
       "    </tr>\n",
       "    <tr>\n",
       "      <th>2</th>\n",
       "      <td>6.162310</td>\n",
       "    </tr>\n",
       "    <tr>\n",
       "      <th>3</th>\n",
       "      <td>4.592346</td>\n",
       "    </tr>\n",
       "    <tr>\n",
       "      <th>4</th>\n",
       "      <td>4.450628</td>\n",
       "    </tr>\n",
       "    <tr>\n",
       "      <th>...</th>\n",
       "      <td>...</td>\n",
       "    </tr>\n",
       "    <tr>\n",
       "      <th>39995</th>\n",
       "      <td>6.268384</td>\n",
       "    </tr>\n",
       "    <tr>\n",
       "      <th>39996</th>\n",
       "      <td>6.747459</td>\n",
       "    </tr>\n",
       "    <tr>\n",
       "      <th>39997</th>\n",
       "      <td>6.133126</td>\n",
       "    </tr>\n",
       "    <tr>\n",
       "      <th>39998</th>\n",
       "      <td>4.248440</td>\n",
       "    </tr>\n",
       "    <tr>\n",
       "      <th>39999</th>\n",
       "      <td>5.397579</td>\n",
       "    </tr>\n",
       "  </tbody>\n",
       "</table>\n",
       "<p>40000 rows × 1 columns</p>\n",
       "</div>"
      ],
      "text/plain": [
       "              0\n",
       "0      6.206783\n",
       "1      5.345179\n",
       "2      6.162310\n",
       "3      4.592346\n",
       "4      4.450628\n",
       "...         ...\n",
       "39995  6.268384\n",
       "39996  6.747459\n",
       "39997  6.133126\n",
       "39998  4.248440\n",
       "39999  5.397579\n",
       "\n",
       "[40000 rows x 1 columns]"
      ]
     },
     "execution_count": 8,
     "metadata": {},
     "output_type": "execute_result"
    }
   ],
   "source": [
    "ddf"
   ]
  },
  {
   "cell_type": "code",
   "execution_count": 9,
   "id": "418fcc09",
   "metadata": {},
   "outputs": [
    {
     "data": {
      "text/html": [
       "<div>\n",
       "<style scoped>\n",
       "    .dataframe tbody tr th:only-of-type {\n",
       "        vertical-align: middle;\n",
       "    }\n",
       "\n",
       "    .dataframe tbody tr th {\n",
       "        vertical-align: top;\n",
       "    }\n",
       "\n",
       "    .dataframe thead th {\n",
       "        text-align: right;\n",
       "    }\n",
       "</style>\n",
       "<table border=\"1\" class=\"dataframe\">\n",
       "  <thead>\n",
       "    <tr style=\"text-align: right;\">\n",
       "      <th></th>\n",
       "      <th>0</th>\n",
       "    </tr>\n",
       "  </thead>\n",
       "  <tbody>\n",
       "    <tr>\n",
       "      <th>count</th>\n",
       "      <td>40000.000000</td>\n",
       "    </tr>\n",
       "    <tr>\n",
       "      <th>mean</th>\n",
       "      <td>5.503154</td>\n",
       "    </tr>\n",
       "    <tr>\n",
       "      <th>std</th>\n",
       "      <td>1.000004</td>\n",
       "    </tr>\n",
       "    <tr>\n",
       "      <th>min</th>\n",
       "      <td>1.149873</td>\n",
       "    </tr>\n",
       "    <tr>\n",
       "      <th>25%</th>\n",
       "      <td>4.836159</td>\n",
       "    </tr>\n",
       "    <tr>\n",
       "      <th>50%</th>\n",
       "      <td>5.495612</td>\n",
       "    </tr>\n",
       "    <tr>\n",
       "      <th>75%</th>\n",
       "      <td>6.179508</td>\n",
       "    </tr>\n",
       "    <tr>\n",
       "      <th>max</th>\n",
       "      <td>9.711465</td>\n",
       "    </tr>\n",
       "  </tbody>\n",
       "</table>\n",
       "</div>"
      ],
      "text/plain": [
       "                  0\n",
       "count  40000.000000\n",
       "mean       5.503154\n",
       "std        1.000004\n",
       "min        1.149873\n",
       "25%        4.836159\n",
       "50%        5.495612\n",
       "75%        6.179508\n",
       "max        9.711465"
      ]
     },
     "execution_count": 9,
     "metadata": {},
     "output_type": "execute_result"
    }
   ],
   "source": [
    "ddf.describe()"
   ]
  },
  {
   "cell_type": "code",
   "execution_count": 10,
   "id": "78d524da",
   "metadata": {},
   "outputs": [
    {
     "name": "stderr",
     "output_type": "stream",
     "text": [
      "C:\\Users\\User\\anaconda3\\lib\\site-packages\\seaborn\\_decorators.py:36: FutureWarning: Pass the following variable as a keyword arg: x. From version 0.12, the only valid positional argument will be `data`, and passing other arguments without an explicit keyword will result in an error or misinterpretation.\n",
      "  warnings.warn(\n"
     ]
    },
    {
     "data": {
      "text/plain": [
       "<AxesSubplot:>"
      ]
     },
     "execution_count": 10,
     "metadata": {},
     "output_type": "execute_result"
    },
    {
     "data": {
      "image/png": "[encoded data removed]",
      "text/plain": [
       "<Figure size 432x288 with 1 Axes>"
      ]
     },
     "metadata": {
      "needs_background": "light"
     },
     "output_type": "display_data"
    }
   ],
   "source": [
    "sns.boxplot(data)"
   ]
  },
  {
   "cell_type": "code",
   "execution_count": 11,
   "id": "547c69cf",
   "metadata": {},
   "outputs": [
    {
     "data": {
      "text/plain": [
       "0    4.836159\n",
       "Name: 0.25, dtype: float64"
      ]
     },
     "execution_count": 11,
     "metadata": {},
     "output_type": "execute_result"
    }
   ],
   "source": [
    "ddf.quantile(.25)"
   ]
  },
  {
   "cell_type": "code",
   "execution_count": 12,
   "id": "ab16b806",
   "metadata": {},
   "outputs": [
    {
     "data": {
      "text/plain": [
       "0    6.179508\n",
       "Name: 0.75, dtype: float64"
      ]
     },
     "execution_count": 12,
     "metadata": {},
     "output_type": "execute_result"
    }
   ],
   "source": [
    "ddf.quantile(.75)"
   ]
  },
  {
   "cell_type": "code",
   "execution_count": 13,
   "id": "79682a5d",
   "metadata": {},
   "outputs": [
    {
     "data": {
      "text/plain": [
       "0    5.495612\n",
       "dtype: float64"
      ]
     },
     "execution_count": 13,
     "metadata": {},
     "output_type": "execute_result"
    }
   ],
   "source": [
    "ddf.median()"
   ]
  },
  {
   "cell_type": "code",
   "execution_count": 14,
   "id": "5dfcfa7a",
   "metadata": {},
   "outputs": [
    {
     "data": {
      "text/plain": [
       "1.149873    1\n",
       "5.931703    1\n",
       "5.931396    1\n",
       "5.931406    1\n",
       "5.931413    1\n",
       "           ..\n",
       "5.073915    1\n",
       "5.073926    1\n",
       "5.074214    1\n",
       "5.074397    1\n",
       "9.711465    1\n",
       "Length: 40000, dtype: int64"
      ]
     },
     "execution_count": 14,
     "metadata": {},
     "output_type": "execute_result"
    }
   ],
   "source": [
    "ddf.value_counts(normalize=False)"
   ]
  },
  {
   "cell_type": "code",
   "execution_count": 15,
   "id": "9965e6b9",
   "metadata": {},
   "outputs": [
    {
     "data": {
      "text/html": [
       "<div>\n",
       "<style scoped>\n",
       "    .dataframe tbody tr th:only-of-type {\n",
       "        vertical-align: middle;\n",
       "    }\n",
       "\n",
       "    .dataframe tbody tr th {\n",
       "        vertical-align: top;\n",
       "    }\n",
       "\n",
       "    .dataframe thead th {\n",
       "        text-align: right;\n",
       "    }\n",
       "</style>\n",
       "<table border=\"1\" class=\"dataframe\">\n",
       "  <thead>\n",
       "    <tr style=\"text-align: right;\">\n",
       "      <th></th>\n",
       "      <th>0</th>\n",
       "    </tr>\n",
       "  </thead>\n",
       "  <tbody>\n",
       "    <tr>\n",
       "      <th>0</th>\n",
       "      <td>1.149873</td>\n",
       "    </tr>\n",
       "    <tr>\n",
       "      <th>1</th>\n",
       "      <td>1.471481</td>\n",
       "    </tr>\n",
       "    <tr>\n",
       "      <th>2</th>\n",
       "      <td>1.637616</td>\n",
       "    </tr>\n",
       "    <tr>\n",
       "      <th>3</th>\n",
       "      <td>1.750675</td>\n",
       "    </tr>\n",
       "    <tr>\n",
       "      <th>4</th>\n",
       "      <td>1.821390</td>\n",
       "    </tr>\n",
       "    <tr>\n",
       "      <th>...</th>\n",
       "      <td>...</td>\n",
       "    </tr>\n",
       "    <tr>\n",
       "      <th>39995</th>\n",
       "      <td>9.219733</td>\n",
       "    </tr>\n",
       "    <tr>\n",
       "      <th>39996</th>\n",
       "      <td>9.283163</td>\n",
       "    </tr>\n",
       "    <tr>\n",
       "      <th>39997</th>\n",
       "      <td>9.383744</td>\n",
       "    </tr>\n",
       "    <tr>\n",
       "      <th>39998</th>\n",
       "      <td>9.396067</td>\n",
       "    </tr>\n",
       "    <tr>\n",
       "      <th>39999</th>\n",
       "      <td>9.711465</td>\n",
       "    </tr>\n",
       "  </tbody>\n",
       "</table>\n",
       "<p>40000 rows × 1 columns</p>\n",
       "</div>"
      ],
      "text/plain": [
       "              0\n",
       "0      1.149873\n",
       "1      1.471481\n",
       "2      1.637616\n",
       "3      1.750675\n",
       "4      1.821390\n",
       "...         ...\n",
       "39995  9.219733\n",
       "39996  9.283163\n",
       "39997  9.383744\n",
       "39998  9.396067\n",
       "39999  9.711465\n",
       "\n",
       "[40000 rows x 1 columns]"
      ]
     },
     "execution_count": 15,
     "metadata": {},
     "output_type": "execute_result"
    }
   ],
   "source": [
    "ddf.mode()"
   ]
  },
  {
   "cell_type": "code",
   "execution_count": 16,
   "id": "d73bc0d4",
   "metadata": {},
   "outputs": [
    {
     "data": {
      "text/plain": [
       "(array([2.000e+00, 6.000e+00, 3.400e+01, 1.330e+02, 3.340e+02, 9.310e+02,\n",
       "        2.020e+03, 3.631e+03, 5.242e+03, 6.596e+03, 6.635e+03, 5.770e+03,\n",
       "        4.190e+03, 2.442e+03, 1.222e+03, 5.400e+02, 1.920e+02, 6.400e+01,\n",
       "        1.300e+01, 3.000e+00]),\n",
       " array([1.14987297, 1.57795259, 2.00603221, 2.43411183, 2.86219146,\n",
       "        3.29027108, 3.7183507 , 4.14643032, 4.57450995, 5.00258957,\n",
       "        5.43066919, 5.85874881, 6.28682843, 6.71490806, 7.14298768,\n",
       "        7.5710673 , 7.99914692, 8.42722654, 8.85530617, 9.28338579,\n",
       "        9.71146541]),\n",
       " <BarContainer object of 20 artists>)"
      ]
     },
     "execution_count": 16,
     "metadata": {},
     "output_type": "execute_result"
    },
    {
     "data": {
      "image/png": "[encoded data removed]",
      "text/plain": [
       "<Figure size 432x288 with 1 Axes>"
      ]
     },
     "metadata": {
      "needs_background": "light"
     },
     "output_type": "display_data"
    }
   ],
   "source": [
    "plt.hist(ddf, bins=20)"
   ]
  },
  {
   "cell_type": "code",
   "execution_count": 17,
   "id": "43a12323",
   "metadata": {},
   "outputs": [
    {
     "data": {
      "text/plain": [
       "array([[<AxesSubplot:title={'center':'0'}>]], dtype=object)"
      ]
     },
     "execution_count": 17,
     "metadata": {},
     "output_type": "execute_result"
    },
    {
     "data": {
      "image/png": "[encoded data removed]",
      "text/plain": [
       "<Figure size 432x288 with 1 Axes>"
      ]
     },
     "metadata": {
      "needs_background": "light"
     },
     "output_type": "display_data"
    }
   ],
   "source": [
    "ddf.hist(grid=True, bins=5)"
   ]
  },
  {
   "cell_type": "code",
   "execution_count": 18,
   "id": "638aab16",
   "metadata": {},
   "outputs": [
    {
     "data": {
      "text/plain": [
       "<AxesSubplot:>"
      ]
     },
     "execution_count": 18,
     "metadata": {},
     "output_type": "execute_result"
    },
    {
     "data": {
      "image/png": "[encoded data removed]",
      "text/plain": [
       "<Figure size 432x288 with 1 Axes>"
      ]
     },
     "metadata": {
      "needs_background": "light"
     },
     "output_type": "display_data"
    }
   ],
   "source": [
    "ddf.boxplot()"
   ]
  },
  {
   "cell_type": "code",
   "execution_count": 19,
   "id": "c7a26c48",
   "metadata": {},
   "outputs": [
    {
     "data": {
      "text/plain": [
       "<AxesSubplot:>"
      ]
     },
     "execution_count": 19,
     "metadata": {},
     "output_type": "execute_result"
    },
    {
     "data": {
      "image/png": "[encoded data removed]",
      "text/plain": [
       "<Figure size 432x288 with 1 Axes>"
      ]
     },
     "metadata": {
      "needs_background": "light"
     },
     "output_type": "display_data"
    }
   ],
   "source": [
    "sns.boxplot(data=ddf, orient = 'h')"
   ]
  },
  {
   "cell_type": "code",
   "execution_count": 20,
   "id": "493fbd7d",
   "metadata": {},
   "outputs": [
    {
     "data": {
      "text/plain": [
       "<AxesSubplot:>"
      ]
     },
     "execution_count": 20,
     "metadata": {},
     "output_type": "execute_result"
    },
    {
     "data": {
      "image/png": "[encoded data removed]",
      "text/plain": [
       "<Figure size 432x288 with 1 Axes>"
      ]
     },
     "metadata": {
      "needs_background": "light"
     },
     "output_type": "display_data"
    }
   ],
   "source": [
    "sns.boxplot(data=ddf, orient = 'v')"
   ]
  },
  {
   "cell_type": "code",
   "execution_count": 21,
   "id": "dc8030d6",
   "metadata": {},
   "outputs": [
    {
     "name": "stderr",
     "output_type": "stream",
     "text": [
      "C:\\Users\\User\\anaconda3\\lib\\site-packages\\seaborn\\distributions.py:2619: FutureWarning: `distplot` is a deprecated function and will be removed in a future version. Please adapt your code to use either `displot` (a figure-level function with similar flexibility) or `histplot` (an axes-level function for histograms).\n",
      "  warnings.warn(msg, FutureWarning)\n"
     ]
    },
    {
     "data": {
      "text/plain": [
       "<AxesSubplot:ylabel='Density'>"
      ]
     },
     "execution_count": 21,
     "metadata": {},
     "output_type": "execute_result"
    },
    {
     "data": {
      "image/png": "[encoded data removed]",
      "text/plain": [
       "<Figure size 432x288 with 1 Axes>"
      ]
     },
     "metadata": {
      "needs_background": "light"
     },
     "output_type": "display_data"
    }
   ],
   "source": [
    "sns.distplot(ddf)"
   ]
  },
  {
   "cell_type": "code",
   "execution_count": 22,
   "id": "38d3bef3",
   "metadata": {},
   "outputs": [
    {
     "data": {
      "text/plain": [
       "0    0.023368\n",
       "dtype: float64"
      ]
     },
     "execution_count": 22,
     "metadata": {},
     "output_type": "execute_result"
    }
   ],
   "source": [
    "ddf.skew()"
   ]
  },
  {
   "cell_type": "code",
   "execution_count": 23,
   "id": "ddabb803",
   "metadata": {},
   "outputs": [
    {
     "data": {
      "text/plain": [
       "0    0.019109\n",
       "dtype: float64"
      ]
     },
     "execution_count": 23,
     "metadata": {},
     "output_type": "execute_result"
    }
   ],
   "source": [
    "ddf.kurtosis()"
   ]
  },
  {
   "cell_type": "code",
   "execution_count": 24,
   "id": "40c50294",
   "metadata": {},
   "outputs": [],
   "source": [
    "tips = sns.load_dataset('tips')"
   ]
  },
  {
   "cell_type": "code",
   "execution_count": 25,
   "id": "8b2687ac",
   "metadata": {},
   "outputs": [
    {
     "data": {
      "text/html": [
       "<div>\n",
       "<style scoped>\n",
       "    .dataframe tbody tr th:only-of-type {\n",
       "        vertical-align: middle;\n",
       "    }\n",
       "\n",
       "    .dataframe tbody tr th {\n",
       "        vertical-align: top;\n",
       "    }\n",
       "\n",
       "    .dataframe thead th {\n",
       "        text-align: right;\n",
       "    }\n",
       "</style>\n",
       "<table border=\"1\" class=\"dataframe\">\n",
       "  <thead>\n",
       "    <tr style=\"text-align: right;\">\n",
       "      <th></th>\n",
       "      <th>total_bill</th>\n",
       "      <th>tip</th>\n",
       "      <th>sex</th>\n",
       "      <th>smoker</th>\n",
       "      <th>day</th>\n",
       "      <th>time</th>\n",
       "      <th>size</th>\n",
       "    </tr>\n",
       "  </thead>\n",
       "  <tbody>\n",
       "    <tr>\n",
       "      <th>0</th>\n",
       "      <td>16.99</td>\n",
       "      <td>1.01</td>\n",
       "      <td>Female</td>\n",
       "      <td>No</td>\n",
       "      <td>Sun</td>\n",
       "      <td>Dinner</td>\n",
       "      <td>2</td>\n",
       "    </tr>\n",
       "    <tr>\n",
       "      <th>1</th>\n",
       "      <td>10.34</td>\n",
       "      <td>1.66</td>\n",
       "      <td>Male</td>\n",
       "      <td>No</td>\n",
       "      <td>Sun</td>\n",
       "      <td>Dinner</td>\n",
       "      <td>3</td>\n",
       "    </tr>\n",
       "    <tr>\n",
       "      <th>2</th>\n",
       "      <td>21.01</td>\n",
       "      <td>3.50</td>\n",
       "      <td>Male</td>\n",
       "      <td>No</td>\n",
       "      <td>Sun</td>\n",
       "      <td>Dinner</td>\n",
       "      <td>3</td>\n",
       "    </tr>\n",
       "    <tr>\n",
       "      <th>3</th>\n",
       "      <td>23.68</td>\n",
       "      <td>3.31</td>\n",
       "      <td>Male</td>\n",
       "      <td>No</td>\n",
       "      <td>Sun</td>\n",
       "      <td>Dinner</td>\n",
       "      <td>2</td>\n",
       "    </tr>\n",
       "    <tr>\n",
       "      <th>4</th>\n",
       "      <td>24.59</td>\n",
       "      <td>3.61</td>\n",
       "      <td>Female</td>\n",
       "      <td>No</td>\n",
       "      <td>Sun</td>\n",
       "      <td>Dinner</td>\n",
       "      <td>4</td>\n",
       "    </tr>\n",
       "    <tr>\n",
       "      <th>...</th>\n",
       "      <td>...</td>\n",
       "      <td>...</td>\n",
       "      <td>...</td>\n",
       "      <td>...</td>\n",
       "      <td>...</td>\n",
       "      <td>...</td>\n",
       "      <td>...</td>\n",
       "    </tr>\n",
       "    <tr>\n",
       "      <th>239</th>\n",
       "      <td>29.03</td>\n",
       "      <td>5.92</td>\n",
       "      <td>Male</td>\n",
       "      <td>No</td>\n",
       "      <td>Sat</td>\n",
       "      <td>Dinner</td>\n",
       "      <td>3</td>\n",
       "    </tr>\n",
       "    <tr>\n",
       "      <th>240</th>\n",
       "      <td>27.18</td>\n",
       "      <td>2.00</td>\n",
       "      <td>Female</td>\n",
       "      <td>Yes</td>\n",
       "      <td>Sat</td>\n",
       "      <td>Dinner</td>\n",
       "      <td>2</td>\n",
       "    </tr>\n",
       "    <tr>\n",
       "      <th>241</th>\n",
       "      <td>22.67</td>\n",
       "      <td>2.00</td>\n",
       "      <td>Male</td>\n",
       "      <td>Yes</td>\n",
       "      <td>Sat</td>\n",
       "      <td>Dinner</td>\n",
       "      <td>2</td>\n",
       "    </tr>\n",
       "    <tr>\n",
       "      <th>242</th>\n",
       "      <td>17.82</td>\n",
       "      <td>1.75</td>\n",
       "      <td>Male</td>\n",
       "      <td>No</td>\n",
       "      <td>Sat</td>\n",
       "      <td>Dinner</td>\n",
       "      <td>2</td>\n",
       "    </tr>\n",
       "    <tr>\n",
       "      <th>243</th>\n",
       "      <td>18.78</td>\n",
       "      <td>3.00</td>\n",
       "      <td>Female</td>\n",
       "      <td>No</td>\n",
       "      <td>Thur</td>\n",
       "      <td>Dinner</td>\n",
       "      <td>2</td>\n",
       "    </tr>\n",
       "  </tbody>\n",
       "</table>\n",
       "<p>244 rows × 7 columns</p>\n",
       "</div>"
      ],
      "text/plain": [
       "     total_bill   tip     sex smoker   day    time  size\n",
       "0         16.99  1.01  Female     No   Sun  Dinner     2\n",
       "1         10.34  1.66    Male     No   Sun  Dinner     3\n",
       "2         21.01  3.50    Male     No   Sun  Dinner     3\n",
       "3         23.68  3.31    Male     No   Sun  Dinner     2\n",
       "4         24.59  3.61  Female     No   Sun  Dinner     4\n",
       "..          ...   ...     ...    ...   ...     ...   ...\n",
       "239       29.03  5.92    Male     No   Sat  Dinner     3\n",
       "240       27.18  2.00  Female    Yes   Sat  Dinner     2\n",
       "241       22.67  2.00    Male    Yes   Sat  Dinner     2\n",
       "242       17.82  1.75    Male     No   Sat  Dinner     2\n",
       "243       18.78  3.00  Female     No  Thur  Dinner     2\n",
       "\n",
       "[244 rows x 7 columns]"
      ]
     },
     "execution_count": 25,
     "metadata": {},
     "output_type": "execute_result"
    }
   ],
   "source": [
    "tips"
   ]
  },
  {
   "cell_type": "code",
   "execution_count": 26,
   "id": "3cd6a60f",
   "metadata": {},
   "outputs": [],
   "source": [
    "corrd = tips.corr()"
   ]
  },
  {
   "cell_type": "code",
   "execution_count": 27,
   "id": "193631b6",
   "metadata": {},
   "outputs": [
    {
     "data": {
      "text/html": [
       "<div>\n",
       "<style scoped>\n",
       "    .dataframe tbody tr th:only-of-type {\n",
       "        vertical-align: middle;\n",
       "    }\n",
       "\n",
       "    .dataframe tbody tr th {\n",
       "        vertical-align: top;\n",
       "    }\n",
       "\n",
       "    .dataframe thead th {\n",
       "        text-align: right;\n",
       "    }\n",
       "</style>\n",
       "<table border=\"1\" class=\"dataframe\">\n",
       "  <thead>\n",
       "    <tr style=\"text-align: right;\">\n",
       "      <th></th>\n",
       "      <th>total_bill</th>\n",
       "      <th>tip</th>\n",
       "      <th>size</th>\n",
       "    </tr>\n",
       "  </thead>\n",
       "  <tbody>\n",
       "    <tr>\n",
       "      <th>total_bill</th>\n",
       "      <td>1.000000</td>\n",
       "      <td>0.675734</td>\n",
       "      <td>0.598315</td>\n",
       "    </tr>\n",
       "    <tr>\n",
       "      <th>tip</th>\n",
       "      <td>0.675734</td>\n",
       "      <td>1.000000</td>\n",
       "      <td>0.489299</td>\n",
       "    </tr>\n",
       "    <tr>\n",
       "      <th>size</th>\n",
       "      <td>0.598315</td>\n",
       "      <td>0.489299</td>\n",
       "      <td>1.000000</td>\n",
       "    </tr>\n",
       "  </tbody>\n",
       "</table>\n",
       "</div>"
      ],
      "text/plain": [
       "            total_bill       tip      size\n",
       "total_bill    1.000000  0.675734  0.598315\n",
       "tip           0.675734  1.000000  0.489299\n",
       "size          0.598315  0.489299  1.000000"
      ]
     },
     "execution_count": 27,
     "metadata": {},
     "output_type": "execute_result"
    }
   ],
   "source": [
    "corrd"
   ]
  },
  {
   "cell_type": "code",
   "execution_count": 28,
   "id": "67cc3c1e",
   "metadata": {},
   "outputs": [
    {
     "data": {
      "image/png": "[encoded data removed]",
      "text/plain": [
       "<Figure size 432x288 with 1 Axes>"
      ]
     },
     "metadata": {
      "needs_background": "light"
     },
     "output_type": "display_data"
    }
   ],
   "source": [
    "histogram_total_bill = sns.histplot(data = tips['total_bill'], bins=20)"
   ]
  },
  {
   "cell_type": "code",
   "execution_count": 29,
   "id": "2bb0607f",
   "metadata": {},
   "outputs": [
    {
     "data": {
      "text/plain": [
       "1.1332130376158205"
      ]
     },
     "execution_count": 29,
     "metadata": {},
     "output_type": "execute_result"
    }
   ],
   "source": [
    "tips['total_bill'].skew()"
   ]
  },
  {
   "cell_type": "code",
   "execution_count": 30,
   "id": "69282205",
   "metadata": {},
   "outputs": [
    {
     "data": {
      "text/plain": [
       "count    244.000000\n",
       "mean      19.785943\n",
       "std        8.902412\n",
       "min        3.070000\n",
       "25%       13.347500\n",
       "50%       17.795000\n",
       "75%       24.127500\n",
       "max       50.810000\n",
       "Name: total_bill, dtype: float64"
      ]
     },
     "execution_count": 30,
     "metadata": {},
     "output_type": "execute_result"
    }
   ],
   "source": [
    "tips['total_bill'].describe()"
   ]
  },
  {
   "cell_type": "code",
   "execution_count": 31,
   "id": "51b497ac",
   "metadata": {},
   "outputs": [
    {
     "data": {
      "text/plain": [
       "0    13.42\n",
       "dtype: float64"
      ]
     },
     "execution_count": 31,
     "metadata": {},
     "output_type": "execute_result"
    }
   ],
   "source": [
    "tips['total_bill'].mode()"
   ]
  },
  {
   "cell_type": "code",
   "execution_count": 32,
   "id": "4bc42773",
   "metadata": {},
   "outputs": [
    {
     "name": "stderr",
     "output_type": "stream",
     "text": [
      "C:\\Users\\User\\anaconda3\\lib\\site-packages\\seaborn\\distributions.py:2619: FutureWarning: `distplot` is a deprecated function and will be removed in a future version. Please adapt your code to use either `displot` (a figure-level function with similar flexibility) or `histplot` (an axes-level function for histograms).\n",
      "  warnings.warn(msg, FutureWarning)\n"
     ]
    },
    {
     "data": {
      "image/png": "[encoded data removed]",
      "text/plain": [
       "<Figure size 432x288 with 1 Axes>"
      ]
     },
     "metadata": {
      "needs_background": "light"
     },
     "output_type": "display_data"
    }
   ],
   "source": [
    "distplot = sns.distplot(tips['total_bill'])"
   ]
  },
  {
   "cell_type": "code",
   "execution_count": 33,
   "id": "d0f4647d",
   "metadata": {},
   "outputs": [
    {
     "data": {
      "text/plain": [
       "0      16.99\n",
       "1      10.34\n",
       "2      21.01\n",
       "3      23.68\n",
       "4      24.59\n",
       "       ...  \n",
       "239    29.03\n",
       "240    27.18\n",
       "241    22.67\n",
       "242    17.82\n",
       "243    18.78\n",
       "Name: total_bill, Length: 244, dtype: float64"
      ]
     },
     "execution_count": 33,
     "metadata": {},
     "output_type": "execute_result"
    }
   ],
   "source": [
    "tips['total_bill']"
   ]
  },
  {
   "cell_type": "code",
   "execution_count": 34,
   "id": "924f19e7",
   "metadata": {},
   "outputs": [
    {
     "data": {
      "text/plain": [
       "<AxesSubplot:xlabel='total_bill', ylabel='Density'>"
      ]
     },
     "execution_count": 34,
     "metadata": {},
     "output_type": "execute_result"
    },
    {
     "data": {
      "image/png": "[encoded data removed]",
      "text/plain": [
       "<Figure size 432x288 with 1 Axes>"
      ]
     },
     "metadata": {
      "needs_background": "light"
     },
     "output_type": "display_data"
    }
   ],
   "source": [
    "sns.histplot(tips['total_bill'], cumulative=True, kde=True, stat='density', legend=True)   #Density converts it into percentage % ||"
   ]
  },
  {
   "cell_type": "code",
   "execution_count": 35,
   "id": "efa89a24",
   "metadata": {},
   "outputs": [
    {
     "data": {
      "text/plain": [
       "<AxesSubplot:xlabel='total_bill', ylabel='Density'>"
      ]
     },
     "execution_count": 35,
     "metadata": {},
     "output_type": "execute_result"
    },
    {
     "data": {
      "image/png": "[encoded data removed]",
      "text/plain": [
       "<Figure size 432x288 with 1 Axes>"
      ]
     },
     "metadata": {
      "needs_background": "light"
     },
     "output_type": "display_data"
    }
   ],
   "source": [
    "sns.histplot(tips['total_bill'], cumulative=False, kde=True, stat='density', legend=True)"
   ]
  },
  {
   "cell_type": "code",
   "execution_count": 36,
   "id": "0500d30c",
   "metadata": {},
   "outputs": [
    {
     "data": {
      "text/plain": [
       "count    244.000000\n",
       "mean      19.785943\n",
       "std        8.902412\n",
       "min        3.070000\n",
       "25%       13.347500\n",
       "50%       17.795000\n",
       "75%       24.127500\n",
       "max       50.810000\n",
       "Name: total_bill, dtype: float64"
      ]
     },
     "execution_count": 36,
     "metadata": {},
     "output_type": "execute_result"
    }
   ],
   "source": [
    "tips['total_bill'].describe()"
   ]
  },
  {
   "cell_type": "markdown",
   "id": "880f554c",
   "metadata": {},
   "source": [
    "### The Bill Amounts is 24.79; STD is 8.9; Mean is 19.7"
   ]
  },
  {
   "cell_type": "code",
   "execution_count": 37,
   "id": "25799f5d",
   "metadata": {},
   "outputs": [
    {
     "data": {
      "text/plain": [
       "28.6"
      ]
     },
     "execution_count": 37,
     "metadata": {},
     "output_type": "execute_result"
    }
   ],
   "source": [
    "# The 1st SD:\n",
    "\n",
    "19.7 + 8.9"
   ]
  },
  {
   "cell_type": "code",
   "execution_count": 38,
   "id": "98801ef9",
   "metadata": {},
   "outputs": [
    {
     "data": {
      "text/plain": [
       "10.799999999999999"
      ]
     },
     "execution_count": 38,
     "metadata": {},
     "output_type": "execute_result"
    }
   ],
   "source": [
    "# 68% of people in the bill range:\n",
    "\n",
    "19.7 - 8.9"
   ]
  },
  {
   "cell_type": "code",
   "execution_count": null,
   "id": "95187a09",
   "metadata": {},
   "outputs": [],
   "source": []
  },
  {
   "cell_type": "markdown",
   "id": "062d1569",
   "metadata": {},
   "source": [
    "# How would you create CDF & PDF for total bill?"
   ]
  },
  {
   "cell_type": "code",
   "execution_count": 39,
   "id": "68c70f11",
   "metadata": {},
   "outputs": [
    {
     "data": {
      "text/plain": [
       "(array([ 7, 42, 68, 51, 31, 19, 12,  7,  3,  4], dtype=int64),\n",
       " array([ 3.07 ,  7.844, 12.618, 17.392, 22.166, 26.94 , 31.714, 36.488,\n",
       "        41.262, 46.036, 50.81 ]))"
      ]
     },
     "execution_count": 39,
     "metadata": {},
     "output_type": "execute_result"
    }
   ],
   "source": [
    "np.histogram(tips['total_bill'], bins=10)"
   ]
  },
  {
   "cell_type": "code",
   "execution_count": 40,
   "id": "ddcc0f2e",
   "metadata": {},
   "outputs": [],
   "source": [
    "count, bins = np.histogram(tips['total_bill'], bins=10)"
   ]
  },
  {
   "cell_type": "code",
   "execution_count": 41,
   "id": "f2aef4f7",
   "metadata": {},
   "outputs": [
    {
     "data": {
      "text/plain": [
       "array([ 7, 42, 68, 51, 31, 19, 12,  7,  3,  4], dtype=int64)"
      ]
     },
     "execution_count": 41,
     "metadata": {},
     "output_type": "execute_result"
    }
   ],
   "source": [
    "count"
   ]
  },
  {
   "cell_type": "code",
   "execution_count": 42,
   "id": "9dcc4ea4",
   "metadata": {},
   "outputs": [
    {
     "data": {
      "text/plain": [
       "array([ 3.07 ,  7.844, 12.618, 17.392, 22.166, 26.94 , 31.714, 36.488,\n",
       "       41.262, 46.036, 50.81 ])"
      ]
     },
     "execution_count": 42,
     "metadata": {},
     "output_type": "execute_result"
    }
   ],
   "source": [
    "bins"
   ]
  },
  {
   "cell_type": "code",
   "execution_count": 43,
   "id": "efd1ccd4",
   "metadata": {},
   "outputs": [],
   "source": [
    "pdf = count/sum(bins)"
   ]
  },
  {
   "cell_type": "code",
   "execution_count": 44,
   "id": "38767642",
   "metadata": {},
   "outputs": [
    {
     "data": {
      "text/plain": [
       "array([0.02362152, 0.14172909, 0.22946615, 0.17209962, 0.10460957,\n",
       "       0.06411554, 0.04049403, 0.02362152, 0.01012351, 0.01349801])"
      ]
     },
     "execution_count": 44,
     "metadata": {},
     "output_type": "execute_result"
    }
   ],
   "source": [
    "pdf"
   ]
  },
  {
   "cell_type": "code",
   "execution_count": 45,
   "id": "d6836638",
   "metadata": {},
   "outputs": [],
   "source": [
    "cdf = np.cumsum(pdf)"
   ]
  },
  {
   "cell_type": "code",
   "execution_count": 46,
   "id": "07767e6f",
   "metadata": {},
   "outputs": [
    {
     "data": {
      "text/plain": [
       "array([0.02362152, 0.16535061, 0.39481676, 0.56691638, 0.67152595,\n",
       "       0.73564149, 0.77613552, 0.79975704, 0.80988054, 0.82337855])"
      ]
     },
     "execution_count": 46,
     "metadata": {},
     "output_type": "execute_result"
    }
   ],
   "source": [
    "cdf"
   ]
  },
  {
   "cell_type": "code",
   "execution_count": 47,
   "id": "6a70f3d7",
   "metadata": {},
   "outputs": [
    {
     "data": {
      "text/plain": [
       "<matplotlib.legend.Legend at 0x22c525a3d30>"
      ]
     },
     "execution_count": 47,
     "metadata": {},
     "output_type": "execute_result"
    },
    {
     "data": {
      "image/png": "[encoded data removed]",
      "text/plain": [
       "<Figure size 432x288 with 1 Axes>"
      ]
     },
     "metadata": {
      "needs_background": "light"
     },
     "output_type": "display_data"
    }
   ],
   "source": [
    "# Plotting PDF & CDF:\n",
    "\n",
    "\n",
    "plt.plot(bins[1:], pdf, color='red', label='PDF')\n",
    "plt.plot(bins[1:], cdf, label='CDF')\n",
    "plt.legend()\n",
    "\n"
   ]
  },
  {
   "cell_type": "markdown",
   "id": "1cb66040",
   "metadata": {},
   "source": [
    "# Real Life Simulation"
   ]
  },
  {
   "cell_type": "code",
   "execution_count": 48,
   "id": "8dec5277",
   "metadata": {},
   "outputs": [],
   "source": [
    "# 27 MAY 2023"
   ]
  },
  {
   "cell_type": "markdown",
   "id": "a852e82e",
   "metadata": {},
   "source": [
    "# We will create dummy data for heights ranging from 4 feet to more than 6 feet, with a mean height that we can control. We will set the mean to 5.5 feet."
   ]
  },
  {
   "cell_type": "code",
   "execution_count": 49,
   "id": "8ed675a2",
   "metadata": {},
   "outputs": [],
   "source": [
    "# Most used functions:\n",
    "    # Random Intiger\n",
    "    # Random Number(0,1)\n",
    "    # linspace\n",
    "    # Arrange\n",
    "\n",
    "# Use the library: Scipy (Scientific Python); RVS, Norm & Uniform:"
   ]
  },
  {
   "cell_type": "code",
   "execution_count": 63,
   "id": "19b0ea12",
   "metadata": {},
   "outputs": [],
   "source": [
    "from numpy import random"
   ]
  },
  {
   "cell_type": "code",
   "execution_count": 64,
   "id": "7ecd3e25",
   "metadata": {},
   "outputs": [],
   "source": [
    "data1 = random.normal(loc=5.5, scale=0.5, size=40000)"
   ]
  },
  {
   "cell_type": "code",
   "execution_count": 65,
   "id": "0678e47c",
   "metadata": {},
   "outputs": [
    {
     "data": {
      "text/plain": [
       "array([4.66524206, 6.12558517, 5.13250148, ..., 5.63409192, 4.50605276,\n",
       "       4.84412268])"
      ]
     },
     "execution_count": 65,
     "metadata": {},
     "output_type": "execute_result"
    }
   ],
   "source": [
    "data1"
   ]
  },
  {
   "cell_type": "code",
   "execution_count": 66,
   "id": "19b5b672",
   "metadata": {},
   "outputs": [
    {
     "data": {
      "text/plain": [
       "5.5"
      ]
     },
     "execution_count": 66,
     "metadata": {},
     "output_type": "execute_result"
    }
   ],
   "source": [
    "round(data1.mean(), 1)"
   ]
  },
  {
   "cell_type": "code",
   "execution_count": 67,
   "id": "23190cf9",
   "metadata": {},
   "outputs": [
    {
     "data": {
      "text/plain": [
       "0.5"
      ]
     },
     "execution_count": 67,
     "metadata": {},
     "output_type": "execute_result"
    }
   ],
   "source": [
    "round(data1.std(), 3)"
   ]
  },
  {
   "cell_type": "code",
   "execution_count": 68,
   "id": "02112cb9",
   "metadata": {},
   "outputs": [
    {
     "data": {
      "text/plain": [
       "(array([4.60114791e-04, 1.38034437e-03, 4.75451951e-03, 1.41101869e-02,\n",
       "        2.88338603e-02, 5.99682945e-02, 1.20396704e-01, 2.17020810e-01,\n",
       "        3.39411344e-01, 5.05972899e-01, 6.45694424e-01, 7.62563581e-01,\n",
       "        8.00139622e-01, 7.42165158e-01, 6.23762285e-01, 5.09653817e-01,\n",
       "        3.38797858e-01, 2.00916792e-01, 1.16409042e-01, 5.78210921e-02,\n",
       "        2.82203739e-02, 1.11961266e-02, 3.22080354e-03, 1.68708757e-03,\n",
       "        3.06743194e-04]),\n",
       " array([3.46494541, 3.62794821, 3.79095102, 3.95395382, 4.11695662,\n",
       "        4.27995942, 4.44296222, 4.60596502, 4.76896783, 4.93197063,\n",
       "        5.09497343, 5.25797623, 5.42097903, 5.58398183, 5.74698463,\n",
       "        5.90998744, 6.07299024, 6.23599304, 6.39899584, 6.56199864,\n",
       "        6.72500144, 6.88800424, 7.05100705, 7.21400985, 7.37701265,\n",
       "        7.54001545]),\n",
       " <BarContainer object of 25 artists>)"
      ]
     },
     "execution_count": 68,
     "metadata": {},
     "output_type": "execute_result"
    },
    {
     "data": {
      "image/png": "[encoded data removed]",
      "text/plain": [
       "<Figure size 1440x576 with 1 Axes>"
      ]
     },
     "metadata": {},
     "output_type": "display_data"
    }
   ],
   "source": [
    "plt.hist(data1, bins=25, density=True)"
   ]
  },
  {
   "cell_type": "code",
   "execution_count": 69,
   "id": "2b75391c",
   "metadata": {},
   "outputs": [
    {
     "data": {
      "image/png": "[encoded data removed]",
      "text/plain": [
       "<Figure size 1440x576 with 1 Axes>"
      ]
     },
     "metadata": {},
     "output_type": "display_data"
    }
   ],
   "source": [
    "# kernel density estimation : KDE\n",
    "sns.histplot(data1, bins=100, kde=True, cumulative=False, )\n",
    "\n",
    "# plt.figure.figsize=(80, 80):\n",
    "sns.set(rc = {'figure.figsize' : (20,8)})"
   ]
  },
  {
   "cell_type": "code",
   "execution_count": 70,
   "id": "fd8d0cf7",
   "metadata": {},
   "outputs": [
    {
     "name": "stderr",
     "output_type": "stream",
     "text": [
      "C:\\Users\\User\\anaconda3\\lib\\site-packages\\seaborn\\distributions.py:2619: FutureWarning: `distplot` is a deprecated function and will be removed in a future version. Please adapt your code to use either `displot` (a figure-level function with similar flexibility) or `histplot` (an axes-level function for histograms).\n",
      "  warnings.warn(msg, FutureWarning)\n"
     ]
    },
    {
     "data": {
      "text/plain": [
       "<AxesSubplot:ylabel='Density'>"
      ]
     },
     "execution_count": 70,
     "metadata": {},
     "output_type": "execute_result"
    },
    {
     "data": {
      "image/png": "[encoded data removed]",
      "text/plain": [
       "<Figure size 1440x576 with 1 Axes>"
      ]
     },
     "metadata": {},
     "output_type": "display_data"
    }
   ],
   "source": [
    "sns.distplot(data1, kde=True)"
   ]
  },
  {
   "cell_type": "code",
   "execution_count": 72,
   "id": "57f7df01",
   "metadata": {},
   "outputs": [],
   "source": [
    "pd1 = pd.DataFrame(data1)"
   ]
  },
  {
   "cell_type": "code",
   "execution_count": 74,
   "id": "4bc1f9c4",
   "metadata": {},
   "outputs": [
    {
     "data": {
      "text/plain": [
       "0    5.5\n",
       "dtype: float64"
      ]
     },
     "execution_count": 74,
     "metadata": {},
     "output_type": "execute_result"
    }
   ],
   "source": [
    "round(pd1.median(), 1)     # Mean, Median & Mode are the same "
   ]
  },
  {
   "cell_type": "code",
   "execution_count": 75,
   "id": "5379029b",
   "metadata": {},
   "outputs": [
    {
     "data": {
      "text/plain": [
       "(array([3.0000e+00, 3.0000e+00, 8.0000e+00, 1.2000e+01, 2.3000e+01,\n",
       "        4.3000e+01, 7.5000e+01, 1.3500e+02, 2.1300e+02, 3.2300e+02,\n",
       "        4.8700e+02, 7.1400e+02, 1.0530e+03, 1.4990e+03, 2.1080e+03,\n",
       "        2.9140e+03, 3.9260e+03, 5.1270e+03, 6.6170e+03, 8.4260e+03,\n",
       "        1.0431e+04, 1.2636e+04, 1.5049e+04, 1.7608e+04, 2.0198e+04,\n",
       "        2.2825e+04, 2.5338e+04, 2.7664e+04, 2.9812e+04, 3.1731e+04,\n",
       "        3.3530e+04, 3.5054e+04, 3.6299e+04, 3.7263e+04, 3.8002e+04,\n",
       "        3.8573e+04, 3.9022e+04, 3.9332e+04, 3.9567e+04, 3.9709e+04,\n",
       "        3.9814e+04, 3.9893e+04, 3.9940e+04, 3.9966e+04, 3.9980e+04,\n",
       "        3.9987e+04, 3.9994e+04, 3.9998e+04, 3.9999e+04, 4.0000e+04]),\n",
       " array([3.46494541, 3.54644681, 3.62794821, 3.70944962, 3.79095102,\n",
       "        3.87245242, 3.95395382, 4.03545522, 4.11695662, 4.19845802,\n",
       "        4.27995942, 4.36146082, 4.44296222, 4.52446362, 4.60596502,\n",
       "        4.68746642, 4.76896783, 4.85046923, 4.93197063, 5.01347203,\n",
       "        5.09497343, 5.17647483, 5.25797623, 5.33947763, 5.42097903,\n",
       "        5.50248043, 5.58398183, 5.66548323, 5.74698463, 5.82848604,\n",
       "        5.90998744, 5.99148884, 6.07299024, 6.15449164, 6.23599304,\n",
       "        6.31749444, 6.39899584, 6.48049724, 6.56199864, 6.64350004,\n",
       "        6.72500144, 6.80650284, 6.88800424, 6.96950565, 7.05100705,\n",
       "        7.13250845, 7.21400985, 7.29551125, 7.37701265, 7.45851405,\n",
       "        7.54001545]),\n",
       " <BarContainer object of 50 artists>)"
      ]
     },
     "execution_count": 75,
     "metadata": {},
     "output_type": "execute_result"
    },
    {
     "data": {
      "image/png": "[encoded data removed]",
      "text/plain": [
       "<Figure size 1440x576 with 1 Axes>"
      ]
     },
     "metadata": {},
     "output_type": "display_data"
    }
   ],
   "source": [
    "plt.hist(data1, bins=50, density=False, cumulative=True, color='purple')"
   ]
  },
  {
   "cell_type": "code",
   "execution_count": 76,
   "id": "e5456d35",
   "metadata": {},
   "outputs": [],
   "source": [
    "Height_Data = pd.DataFrame(data1)"
   ]
  },
  {
   "cell_type": "code",
   "execution_count": 77,
   "id": "fbd384a4",
   "metadata": {},
   "outputs": [],
   "source": [
    "Height_Data.rename(columns = {0:'Height'}, inplace=True)"
   ]
  },
  {
   "cell_type": "code",
   "execution_count": 78,
   "id": "0016a7cd",
   "metadata": {},
   "outputs": [
    {
     "data": {
      "text/html": [
       "<div>\n",
       "<style scoped>\n",
       "    .dataframe tbody tr th:only-of-type {\n",
       "        vertical-align: middle;\n",
       "    }\n",
       "\n",
       "    .dataframe tbody tr th {\n",
       "        vertical-align: top;\n",
       "    }\n",
       "\n",
       "    .dataframe thead th {\n",
       "        text-align: right;\n",
       "    }\n",
       "</style>\n",
       "<table border=\"1\" class=\"dataframe\">\n",
       "  <thead>\n",
       "    <tr style=\"text-align: right;\">\n",
       "      <th></th>\n",
       "      <th>Height</th>\n",
       "    </tr>\n",
       "  </thead>\n",
       "  <tbody>\n",
       "    <tr>\n",
       "      <th>count</th>\n",
       "      <td>40000.000000</td>\n",
       "    </tr>\n",
       "    <tr>\n",
       "      <th>mean</th>\n",
       "      <td>5.496693</td>\n",
       "    </tr>\n",
       "    <tr>\n",
       "      <th>std</th>\n",
       "      <td>0.500261</td>\n",
       "    </tr>\n",
       "    <tr>\n",
       "      <th>min</th>\n",
       "      <td>3.464945</td>\n",
       "    </tr>\n",
       "    <tr>\n",
       "      <th>25%</th>\n",
       "      <td>5.159797</td>\n",
       "    </tr>\n",
       "    <tr>\n",
       "      <th>50%</th>\n",
       "      <td>5.496753</td>\n",
       "    </tr>\n",
       "    <tr>\n",
       "      <th>75%</th>\n",
       "      <td>5.836693</td>\n",
       "    </tr>\n",
       "    <tr>\n",
       "      <th>max</th>\n",
       "      <td>7.540015</td>\n",
       "    </tr>\n",
       "  </tbody>\n",
       "</table>\n",
       "</div>"
      ],
      "text/plain": [
       "             Height\n",
       "count  40000.000000\n",
       "mean       5.496693\n",
       "std        0.500261\n",
       "min        3.464945\n",
       "25%        5.159797\n",
       "50%        5.496753\n",
       "75%        5.836693\n",
       "max        7.540015"
      ]
     },
     "execution_count": 78,
     "metadata": {},
     "output_type": "execute_result"
    }
   ],
   "source": [
    "Height_Data.describe()"
   ]
  },
  {
   "cell_type": "markdown",
   "id": "01d09d6d",
   "metadata": {},
   "source": [
    "#### According to the theory, 68% of the data will fall within 1 standard deviation (SD) of the mean. This means that if we add 0.5 to the average (mean height of 5.5 feet), the result will be 6 feet. In the opposite direction (to the left of the mean), it will be 5 feet."
   ]
  },
  {
   "cell_type": "code",
   "execution_count": 79,
   "id": "1cc36531",
   "metadata": {},
   "outputs": [
    {
     "data": {
      "text/plain": [
       "27200.000000000004"
      ]
     },
     "execution_count": 79,
     "metadata": {},
     "output_type": "execute_result"
    }
   ],
   "source": [
    "# Within 1sr SD the following number of people's height will fall:\n",
    "\n",
    "\n",
    "0.68 * 40000"
   ]
  },
  {
   "cell_type": "code",
   "execution_count": 80,
   "id": "8b10306a",
   "metadata": {},
   "outputs": [],
   "source": [
    "Height_within_1SD = Height_Data.loc[(Height_Data['Height'] >= 5) & (Height_Data['Height'] <= 6)]"
   ]
  },
  {
   "cell_type": "code",
   "execution_count": 81,
   "id": "32139d74",
   "metadata": {},
   "outputs": [
    {
     "data": {
      "text/html": [
       "<div>\n",
       "<style scoped>\n",
       "    .dataframe tbody tr th:only-of-type {\n",
       "        vertical-align: middle;\n",
       "    }\n",
       "\n",
       "    .dataframe tbody tr th {\n",
       "        vertical-align: top;\n",
       "    }\n",
       "\n",
       "    .dataframe thead th {\n",
       "        text-align: right;\n",
       "    }\n",
       "</style>\n",
       "<table border=\"1\" class=\"dataframe\">\n",
       "  <thead>\n",
       "    <tr style=\"text-align: right;\">\n",
       "      <th></th>\n",
       "      <th>Height</th>\n",
       "    </tr>\n",
       "  </thead>\n",
       "  <tbody>\n",
       "    <tr>\n",
       "      <th>count</th>\n",
       "      <td>27320.000000</td>\n",
       "    </tr>\n",
       "    <tr>\n",
       "      <th>mean</th>\n",
       "      <td>5.498161</td>\n",
       "    </tr>\n",
       "    <tr>\n",
       "      <th>std</th>\n",
       "      <td>0.270236</td>\n",
       "    </tr>\n",
       "    <tr>\n",
       "      <th>min</th>\n",
       "      <td>5.000007</td>\n",
       "    </tr>\n",
       "    <tr>\n",
       "      <th>25%</th>\n",
       "      <td>5.276413</td>\n",
       "    </tr>\n",
       "    <tr>\n",
       "      <th>50%</th>\n",
       "      <td>5.497593</td>\n",
       "    </tr>\n",
       "    <tr>\n",
       "      <th>75%</th>\n",
       "      <td>5.719318</td>\n",
       "    </tr>\n",
       "    <tr>\n",
       "      <th>max</th>\n",
       "      <td>5.999967</td>\n",
       "    </tr>\n",
       "  </tbody>\n",
       "</table>\n",
       "</div>"
      ],
      "text/plain": [
       "             Height\n",
       "count  27320.000000\n",
       "mean       5.498161\n",
       "std        0.270236\n",
       "min        5.000007\n",
       "25%        5.276413\n",
       "50%        5.497593\n",
       "75%        5.719318\n",
       "max        5.999967"
      ]
     },
     "execution_count": 81,
     "metadata": {},
     "output_type": "execute_result"
    }
   ],
   "source": [
    "Height_within_1SD.describe()"
   ]
  },
  {
   "cell_type": "code",
   "execution_count": 82,
   "id": "7bc0e150",
   "metadata": {},
   "outputs": [
    {
     "data": {
      "text/plain": [
       "67.96"
      ]
     },
     "execution_count": 82,
     "metadata": {},
     "output_type": "execute_result"
    }
   ],
   "source": [
    "# According to rule, we will get 68% of data within SD 1.\n",
    "\n",
    "(27184/40000)*100"
   ]
  },
  {
   "cell_type": "code",
   "execution_count": 83,
   "id": "4b024223",
   "metadata": {},
   "outputs": [],
   "source": [
    "# withing the 2nd SD:\n",
    "\n",
    "\n",
    "Height_within_2SD = Height_Data.loc[(Height_Data['Height'] >= 4.5) & (Height_Data['Height'] <= 6.5)]"
   ]
  },
  {
   "cell_type": "code",
   "execution_count": 84,
   "id": "a94a685f",
   "metadata": {},
   "outputs": [
    {
     "data": {
      "text/html": [
       "<div>\n",
       "<style scoped>\n",
       "    .dataframe tbody tr th:only-of-type {\n",
       "        vertical-align: middle;\n",
       "    }\n",
       "\n",
       "    .dataframe tbody tr th {\n",
       "        vertical-align: top;\n",
       "    }\n",
       "\n",
       "    .dataframe thead th {\n",
       "        text-align: right;\n",
       "    }\n",
       "</style>\n",
       "<table border=\"1\" class=\"dataframe\">\n",
       "  <thead>\n",
       "    <tr style=\"text-align: right;\">\n",
       "      <th></th>\n",
       "      <th>Height</th>\n",
       "    </tr>\n",
       "  </thead>\n",
       "  <tbody>\n",
       "    <tr>\n",
       "      <th>count</th>\n",
       "      <td>38164.000000</td>\n",
       "    </tr>\n",
       "    <tr>\n",
       "      <th>mean</th>\n",
       "      <td>5.498109</td>\n",
       "    </tr>\n",
       "    <tr>\n",
       "      <th>std</th>\n",
       "      <td>0.438975</td>\n",
       "    </tr>\n",
       "    <tr>\n",
       "      <th>min</th>\n",
       "      <td>4.500278</td>\n",
       "    </tr>\n",
       "    <tr>\n",
       "      <th>25%</th>\n",
       "      <td>5.178779</td>\n",
       "    </tr>\n",
       "    <tr>\n",
       "      <th>50%</th>\n",
       "      <td>5.497572</td>\n",
       "    </tr>\n",
       "    <tr>\n",
       "      <th>75%</th>\n",
       "      <td>5.818772</td>\n",
       "    </tr>\n",
       "    <tr>\n",
       "      <th>max</th>\n",
       "      <td>6.499812</td>\n",
       "    </tr>\n",
       "  </tbody>\n",
       "</table>\n",
       "</div>"
      ],
      "text/plain": [
       "             Height\n",
       "count  38164.000000\n",
       "mean       5.498109\n",
       "std        0.438975\n",
       "min        4.500278\n",
       "25%        5.178779\n",
       "50%        5.497572\n",
       "75%        5.818772\n",
       "max        6.499812"
      ]
     },
     "execution_count": 84,
     "metadata": {},
     "output_type": "execute_result"
    }
   ],
   "source": [
    "Height_within_2SD.describe()"
   ]
  },
  {
   "cell_type": "code",
   "execution_count": 85,
   "id": "2305cdd2",
   "metadata": {},
   "outputs": [
    {
     "data": {
      "text/plain": [
       "95.38250000000001"
      ]
     },
     "execution_count": 85,
     "metadata": {},
     "output_type": "execute_result"
    }
   ],
   "source": [
    "# According to rule, we will get 68% of data within SD 2, it's 95% :\n",
    "\n",
    "(38153/40000)*100"
   ]
  },
  {
   "cell_type": "markdown",
   "id": "1a65f80f",
   "metadata": {},
   "source": [
    "# Standardized Score for Height Data :: Z-Score"
   ]
  },
  {
   "cell_type": "markdown",
   "id": "6b63147a",
   "metadata": {},
   "source": [
    "### Advanced Diagnostic Tests"
   ]
  },
  {
   "cell_type": "code",
   "execution_count": 86,
   "id": "158d6400",
   "metadata": {},
   "outputs": [],
   "source": [
    "import scipy"
   ]
  },
  {
   "cell_type": "code",
   "execution_count": 87,
   "id": "ad5026e8",
   "metadata": {},
   "outputs": [],
   "source": [
    "Height_Data['Height_being_Standardized'] = (Height_Data['Height'] - np.mean(Height_Data['Height']))/np.std(Height_Data['Height'])"
   ]
  },
  {
   "cell_type": "code",
   "execution_count": 88,
   "id": "64e0e50d",
   "metadata": {},
   "outputs": [
    {
     "data": {
      "text/html": [
       "<div>\n",
       "<style scoped>\n",
       "    .dataframe tbody tr th:only-of-type {\n",
       "        vertical-align: middle;\n",
       "    }\n",
       "\n",
       "    .dataframe tbody tr th {\n",
       "        vertical-align: top;\n",
       "    }\n",
       "\n",
       "    .dataframe thead th {\n",
       "        text-align: right;\n",
       "    }\n",
       "</style>\n",
       "<table border=\"1\" class=\"dataframe\">\n",
       "  <thead>\n",
       "    <tr style=\"text-align: right;\">\n",
       "      <th></th>\n",
       "      <th>Height</th>\n",
       "      <th>Height_being_Standardized</th>\n",
       "    </tr>\n",
       "  </thead>\n",
       "  <tbody>\n",
       "    <tr>\n",
       "      <th>0</th>\n",
       "      <td>4.665242</td>\n",
       "      <td>-1.662053</td>\n",
       "    </tr>\n",
       "    <tr>\n",
       "      <th>1</th>\n",
       "      <td>6.125585</td>\n",
       "      <td>1.257144</td>\n",
       "    </tr>\n",
       "    <tr>\n",
       "      <th>2</th>\n",
       "      <td>5.132501</td>\n",
       "      <td>-0.728011</td>\n",
       "    </tr>\n",
       "    <tr>\n",
       "      <th>3</th>\n",
       "      <td>6.190182</td>\n",
       "      <td>1.386272</td>\n",
       "    </tr>\n",
       "    <tr>\n",
       "      <th>4</th>\n",
       "      <td>6.664125</td>\n",
       "      <td>2.333673</td>\n",
       "    </tr>\n",
       "    <tr>\n",
       "      <th>...</th>\n",
       "      <td>...</td>\n",
       "      <td>...</td>\n",
       "    </tr>\n",
       "    <tr>\n",
       "      <th>39995</th>\n",
       "      <td>5.818861</td>\n",
       "      <td>0.644008</td>\n",
       "    </tr>\n",
       "    <tr>\n",
       "      <th>39996</th>\n",
       "      <td>6.523286</td>\n",
       "      <td>2.052140</td>\n",
       "    </tr>\n",
       "    <tr>\n",
       "      <th>39997</th>\n",
       "      <td>5.634092</td>\n",
       "      <td>0.274659</td>\n",
       "    </tr>\n",
       "    <tr>\n",
       "      <th>39998</th>\n",
       "      <td>4.506053</td>\n",
       "      <td>-1.980269</td>\n",
       "    </tr>\n",
       "    <tr>\n",
       "      <th>39999</th>\n",
       "      <td>4.844123</td>\n",
       "      <td>-1.304474</td>\n",
       "    </tr>\n",
       "  </tbody>\n",
       "</table>\n",
       "<p>40000 rows × 2 columns</p>\n",
       "</div>"
      ],
      "text/plain": [
       "         Height  Height_being_Standardized\n",
       "0      4.665242                  -1.662053\n",
       "1      6.125585                   1.257144\n",
       "2      5.132501                  -0.728011\n",
       "3      6.190182                   1.386272\n",
       "4      6.664125                   2.333673\n",
       "...         ...                        ...\n",
       "39995  5.818861                   0.644008\n",
       "39996  6.523286                   2.052140\n",
       "39997  5.634092                   0.274659\n",
       "39998  4.506053                  -1.980269\n",
       "39999  4.844123                  -1.304474\n",
       "\n",
       "[40000 rows x 2 columns]"
      ]
     },
     "execution_count": 88,
     "metadata": {},
     "output_type": "execute_result"
    }
   ],
   "source": [
    "Height_Data"
   ]
  },
  {
   "cell_type": "code",
   "execution_count": 89,
   "id": "a6844a95",
   "metadata": {},
   "outputs": [
    {
     "data": {
      "text/plain": [
       "<AxesSubplot:ylabel='Frequency'>"
      ]
     },
     "execution_count": 89,
     "metadata": {},
     "output_type": "execute_result"
    },
    {
     "data": {
      "image/png": "[encoded data removed]",
      "text/plain": [
       "<Figure size 1440x576 with 1 Axes>"
      ]
     },
     "metadata": {},
     "output_type": "display_data"
    }
   ],
   "source": [
    "Height_Data.plot(kind='hist')"
   ]
  },
  {
   "cell_type": "code",
   "execution_count": null,
   "id": "a6b3189a",
   "metadata": {},
   "outputs": [],
   "source": []
  }
 ],
 "metadata": {
  "kernelspec": {
   "display_name": "Python 3 (ipykernel)",
   "language": "python",
   "name": "python3"
  },
  "language_info": {
   "codemirror_mode": {
    "name": "ipython",
    "version": 3
   },
   "file_extension": ".py",
   "mimetype": "text/x-python",
   "name": "python",
   "nbconvert_exporter": "python",
   "pygments_lexer": "ipython3",
   "version": "3.9.7"
  }
 },
 "nbformat": 4,
 "nbformat_minor": 5
}
